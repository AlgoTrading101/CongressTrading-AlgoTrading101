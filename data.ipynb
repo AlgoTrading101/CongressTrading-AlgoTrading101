{
 "cells": [
  {
   "cell_type": "code",
   "execution_count": null,
   "metadata": {},
   "outputs": [],
   "source": [
    "import os\n",
    "\n",
    "import dotenv\n",
    "\n",
    "dotenv.load_dotenv()\n",
    "\n",
    "qq_key = os.getenv(\"QUIVERQUANT_API_KEY\")"
   ]
  },
  {
   "cell_type": "code",
   "execution_count": null,
   "metadata": {},
   "outputs": [],
   "source": [
    "import requests\n",
    "\n",
    "URL = \"https://api.quiverquant.com/beta/bulk/congresstrading\"\n",
    "\n",
    "data = []\n",
    "page = 1\n",
    "page_size = 1000"
   ]
  },
  {
   "cell_type": "code",
   "execution_count": null,
   "metadata": {},
   "outputs": [],
   "source": [
    "while True:\n",
    "    response = requests.get(\n",
    "        URL + f\"?normalized=true&page={page}&page_size={page_size}\",\n",
    "        headers={\"Authorization\": f\"Bearer {qq_key}\", \"Accept\": \"application/json\"},\n",
    "    )\n",
    "    if response.status_code != 200:\n",
    "        break\n",
    "    data.extend(response.json())\n",
    "    page += 1\n",
    "\n",
    "print(len(data))"
   ]
  },
  {
   "cell_type": "code",
   "execution_count": null,
   "metadata": {},
   "outputs": [],
   "source": [
    "df.columns"
   ]
  },
  {
   "cell_type": "code",
   "execution_count": null,
   "metadata": {},
   "outputs": [],
   "source": [
    "import pandas as pd\n",
    "\n",
    "df = pd.DataFrame(data)\n",
    "subset_columns = [\"Ticker\", \"Amount\", \"Representative\", \"Transaction\"]\n",
    "\n",
    "print(df.shape)\n",
    "df = df.drop_duplicates(subset=subset_columns)\n",
    "df = df.dropna(subset=subset_columns)\n",
    "print(df.shape)"
   ]
  },
  {
   "cell_type": "code",
   "execution_count": null,
   "metadata": {},
   "outputs": [],
   "source": [
    "# sort all transactions by ReportDate\n",
    "df[\"ReportDate\"] = pd.to_datetime(df[\"ReportDate\"])\n",
    "df = df.sort_values(\"ReportDate\")"
   ]
  },
  {
   "cell_type": "code",
   "execution_count": null,
   "metadata": {},
   "outputs": [],
   "source": [
    "df.to_csv(\"congress_trading.csv\", index=False)"
   ]
  },
  {
   "cell_type": "code",
   "execution_count": null,
   "metadata": {},
   "outputs": [],
   "source": [
    "pelosi = df[df[\"Representative\"] == \"Nancy Pelosi\"]\n",
    "pelosi[\"Transaction\"].value_counts()"
   ]
  }
 ],
 "metadata": {
  "kernelspec": {
   "display_name": "qq",
   "language": "python",
   "name": "python3"
  },
  "language_info": {
   "codemirror_mode": {
    "name": "ipython",
    "version": 3
   },
   "file_extension": ".py",
   "mimetype": "text/x-python",
   "name": "python",
   "nbconvert_exporter": "python",
   "pygments_lexer": "ipython3",
   "version": "3.11.0"
  }
 },
 "nbformat": 4,
 "nbformat_minor": 2
}
